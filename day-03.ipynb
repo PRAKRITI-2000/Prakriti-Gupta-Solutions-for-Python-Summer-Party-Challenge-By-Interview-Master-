{
  "cells": [
    {
      "cell_type": "markdown",
      "metadata": {},
      "source": [
        "# Day 3: Disney Parks Guest Spending Behavior"
      ]
    },
    {
      "cell_type": "markdown",
      "metadata": {},
      "source": [
        "You are a data analyst working with the Disney Parks revenue team to understand nuanced guest spending patterns across different park experiences. The team wants to develop a comprehensive view of visitor purchasing behaviors. Your goal is to uncover meaningful insights that can drive personalized marketing strategies."
      ]
    },
    {
      "cell_type": "code",
      "metadata": {},
      "execution_count": null,
      "outputs": [],
      "source": "import pandas as pd\nimport numpy as np\n\nfct_guest_spending_data = [\n  {\n    \"guest_id\": 1,\n    \"visit_date\": \"2024-07-05\",\n    \"amount_spent\": 50,\n    \"park_experience_type\": \"Attraction\"\n  },\n  {\n    \"guest_id\": 2,\n    \"visit_date\": \"2024-07-06\",\n    \"amount_spent\": 30,\n    \"park_experience_type\": \"Dining\"\n  },\n  {\n    \"guest_id\": 3,\n    \"visit_date\": \"2024-07-10\",\n    \"amount_spent\": 20.5,\n    \"park_experience_type\": \"Retail\"\n  },\n  {\n    \"guest_id\": 4,\n    \"visit_date\": \"2024-07-12\",\n    \"amount_spent\": 40,\n    \"park_experience_type\": \"Entertainment\"\n  },\n  {\n    \"guest_id\": 1,\n    \"visit_date\": \"2024-07-15\",\n    \"amount_spent\": 35,\n    \"park_experience_type\": \"Dining\"\n  },\n  {\n    \"guest_id\": 5,\n    \"visit_date\": \"2024-07-20\",\n    \"amount_spent\": 60,\n    \"park_experience_type\": \"Attraction\"\n  },\n  {\n    \"guest_id\": 6,\n    \"visit_date\": \"2024-07-25\",\n    \"amount_spent\": 25,\n    \"park_experience_type\": \"Retail\"\n  },\n  {\n    \"guest_id\": 1,\n    \"visit_date\": \"2024-08-03\",\n    \"amount_spent\": 55,\n    \"park_experience_type\": \"Attraction\"\n  },\n  {\n    \"guest_id\": 1,\n    \"visit_date\": \"2024-08-15\",\n    \"amount_spent\": 45,\n    \"park_experience_type\": \"Dining\"\n  },\n  {\n    \"guest_id\": 2,\n    \"visit_date\": \"2024-08-05\",\n    \"amount_spent\": 22,\n    \"park_experience_type\": \"Retail\"\n  },\n  {\n    \"guest_id\": 2,\n    \"visit_date\": \"2024-08-20\",\n    \"amount_spent\": 38,\n    \"park_experience_type\": \"Entertainment\"\n  },\n  {\n    \"guest_id\": 7,\n    \"visit_date\": \"2024-08-10\",\n    \"amount_spent\": 15,\n    \"park_experience_type\": \"Character Meet\"\n  },\n  {\n    \"guest_id\": 3,\n    \"visit_date\": \"2024-08-25\",\n    \"amount_spent\": 28,\n    \"park_experience_type\": \"Retail\"\n  },\n  {\n    \"guest_id\": 3,\n    \"visit_date\": \"2024-08-27\",\n    \"amount_spent\": 32,\n    \"park_experience_type\": \"Dining\"\n  },\n  {\n    \"guest_id\": 1,\n    \"visit_date\": \"2024-09-02\",\n    \"amount_spent\": 65,\n    \"park_experience_type\": \"Attraction\"\n  },\n  {\n    \"guest_id\": 8,\n    \"visit_date\": \"2024-09-05\",\n    \"amount_spent\": 50,\n    \"park_experience_type\": \"Retail\"\n  },\n  {\n    \"guest_id\": 9,\n    \"visit_date\": \"2024-09-15\",\n    \"amount_spent\": 40,\n    \"park_experience_type\": \"Dining\"\n  },\n  {\n    \"guest_id\": 10,\n    \"visit_date\": \"2024-09-20\",\n    \"amount_spent\": 70,\n    \"park_experience_type\": \"Entertainment\"\n  },\n  {\n    \"guest_id\": 1,\n    \"visit_date\": \"2024-09-25\",\n    \"amount_spent\": 35,\n    \"park_experience_type\": \"Dining\"\n  },\n  {\n    \"guest_id\": 8,\n    \"visit_date\": \"2024-09-28\",\n    \"amount_spent\": 10,\n    \"park_experience_type\": \"Character Meet\"\n  }\n]\nfct_guest_spending = pd.DataFrame(fct_guest_spending_data)\n"
    },
    {
      "cell_type": "markdown",
      "metadata": {},
      "source": [
        "## Question 1\n\nWhat is the average spending per guest per visit for each park experience type during July 2024? Ensure that park experience types with no recorded transactions are shown with an average spending of 0.0. This analysis helps establish baseline spending differences essential for later segmentation."
      ]
    },
    {
      "cell_type": "code",
      "metadata": {},
      "execution_count": null,
      "outputs": [],
      "source": "# Note: pandas and numpy are already imported as pd and np\n# The following tables are loaded as pandas DataFrames with the same names: fct_guest_spending\n# Please print your final result or dataframe\npark_experiences_list = fct_guest_spending['park_experience_type'].unique().tolist()\nfct_guest_spending['year_month']= fct_guest_spending['visit_date'].dt.strftime(\"%Y-%m\")\nrequired_data=fct_guest_spending[fct_guest_spending['year_month']=='2024-07']\nfinal_data= required_data.groupby(['guest_id','park_experience_type']).agg(total_visits=('park_experience_type','count'),\n                                                               total_amount_spent=('amount_spent','sum')).reset_index()\nfinal_data= final_data.groupby('park_experience_type').agg(total_visits_july=('total_visits','sum'),\n                                                     total_amount_spent_july=('total_amount_spent','sum')).reset_index()\nfinal_data['avg_spend'] = np.round(final_data['total_amount_spent_july'] / final_data['total_visits_july'], 3)\nfinal_data_1= final_data[['park_experience_type','avg_spend']]\nfinal_data_1= final_data_1.set_index('park_experience_type')\nfinal_data_1 = final_data_1.reindex(park_experiences_list, fill_value=0.0).reset_index()\nfinal_data_1"
    },
    {
      "cell_type": "markdown",
      "metadata": {},
      "source": [
        "## Question 2\n\nFor guests who visited our parks more than once in August 2024, what is the difference in spending between their first and their last visit? This investigation, using sequential analysis, will reveal any shifts in guest spending behavior over multiple visits."
      ]
    },
    {
      "cell_type": "code",
      "metadata": {},
      "execution_count": null,
      "outputs": [],
      "source": "# Step 1: Filter August 2024 visits only\nrequired_data = fct_guest_spending[fct_guest_spending['visit_date'].dt.strftime('%Y-%m') == '2024-08']\n\n# Step 2: Keep only guests with more than one visit\nvisit_counts = required_data['guest_id'].value_counts()\nmulti_visitors = visit_counts[visit_counts > 1].index\nrequired_data = required_data[required_data['guest_id'].isin(multi_visitors)]\n\n# Step 3: Sort by guest and visit date\nrequired_data = required_data.sort_values(['guest_id', 'visit_date']).reset_index(drop=True)\n\n# Step 4: Rank visits\nrequired_data['visit_rank'] = required_data.groupby('guest_id').cumcount() + 1\n\n# Step 5: Get first and last visits per guest\nfirst_visits = required_data[required_data['visit_rank'] == 1]\nlast_visits = required_data.loc[required_data.groupby('guest_id')['visit_rank'].idxmax()]\n\n# Step 6: Merge first and last visit data\nvisit_data = first_visits.merge(\n    last_visits[['guest_id', 'amount_spent', 'visit_date']],\n    on='guest_id',\n    how='left',\n    suffixes=('_first', '_last')\n)\n\n# Step 7: Calculate spending difference\nvisit_data['amount_diff'] = abs(visit_data['amount_spent_last'] - visit_data['amount_spent_first'])\n\n# Final Output\nvisit_data[['guest_id', 'amount_spent_first', 'amount_spent_last', 'amount_diff']]"
    },
    {
      "cell_type": "markdown",
      "metadata": {},
      "source": [
        "## Question 3\n\nIn September 2024, how can guests be categorized into distinct spending segments such as Low, Medium, and High based on their total spending? Use the following thresholds for categorization: \n-Low: Includes values from $0 up to, but not including, $50.\n-Medium: Includes values from $50 up to, but not including, $100.\n-High: Includes values from $100 and above. \nExclude guests who did not make any purchases in the period."
      ]
    },
    {
      "cell_type": "code",
      "metadata": {},
      "execution_count": null,
      "outputs": [],
      "source": "sep_data = fct_guest_spending[fct_guest_spending['visit_date'].dt.strftime('%Y-%m') == '2024-09']\nguest_spending = sep_data.groupby('guest_id', as_index=False).agg(total_money_spent=('amount_spent','sum'))\nguest_spending = guest_spending[guest_spending['total_money_spent'] > 0]\nguest_spending['spending_category'] = np.where(\n    guest_spending['total_money_spent'] < 50, \n    'Low',\n    np.where(\n        guest_spending['total_money_spent'] < 100,\n        'Medium',\n        'High'\n    )\n)\n\n# 5. Final result\nguest_spending[['guest_id', 'total_money_spent', 'spending_category']]"
    },
    {
      "cell_type": "markdown",
      "metadata": {},
      "source": [
        "Made with ❤️ by [Interview Master](https://www.interviewmaster.ai)"
      ]
    }
  ],
  "metadata": {
    "kernelspec": {
      "name": "python3",
      "language": "python",
      "display_name": "Python 3"
    },
    "language_info": {
      "name": "python",
      "version": "3",
      "mimetype": "text/x-python",
      "file_extension": ".py"
    }
  },
  "nbformat": 4,
  "nbformat_minor": 5
}